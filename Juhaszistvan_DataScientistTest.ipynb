{
 "cells": [
  {
   "cell_type": "markdown",
   "metadata": {},
   "source": [
    "## Submission to the candiate test for the Vodafone Data Scientist position\n",
    " - Author: István Juhász\n",
    " - Position applied for:Data scientist\n",
    " - date:2019-04-13\n",
    " - Written using the anaconda package on a jupyter notebook. Executed on openSUSE Tumbelweed"
   ]
  },
  {
   "cell_type": "code",
   "execution_count": 1,
   "metadata": {},
   "outputs": [
    {
     "name": "stdout",
     "output_type": "stream",
     "text": [
      "VERSION_ID=\"20190512\"\n",
      "PRETTY_NAME=\"openSUSE Tumbleweed\"\n",
      "Python 3.7.3\n"
     ]
    }
   ],
   "source": [
    "import os\n",
    "!cat /etc/os-release|grep -E 'PRETTY_NAME|VERSION_ID'\n",
    "!python -V"
   ]
  },
  {
   "cell_type": "markdown",
   "metadata": {},
   "source": [
    "## Preface and tools used.\n",
    "While the problem could hardly be categorised as particularly difficult or of a niche subject in itself the problem nevertheless did present an additional hurdle for me to overcome. This being, ofcourse, is that I had been using R for data science and my Python work had been so far almost exclusively limited to solving automation problems. Thankfully, this language and tools have an immense and freely available literature.\n",
    "\n",
    "The above notwithstanding, trying to complete this task to the best of my abilities had been a rather quite interesting and may I says 'fun' challenge and while the alloted time had been certainly a limiting factor, my only regret is that I haven't started using this language earlier.  \n",
    "\n",
    "After a brief elaboration, of the packages recommended by <a href=\"Python Machine Learning Libraries That You Should Master\">Navin Bondade</a>: Scikit-Learn classic,TensorFlow (neural networks), Keras (deep learning), LightGBM. I have opted to use the package explicitly permitted by the test instruction which also seemed to be the most approachable ( perhaps only to Tensorflow) and came with the largest user- and available knowledgebase. "
   ]
  },
  {
   "cell_type": "markdown",
   "metadata": {},
   "source": [
    "### Churn Prediction\n",
    "\n",
    "Considering each customer as an individual revenue stream, they could be understood as an individual asset with their revenue streams along with acquisition and retention costs. An effective algorithm for identifying the clients in danger of churning could mitigate both the size of unnecessary retention and avoidable acquisition costs. \n",
    "\n",
    "I have relied on a handful of articles to solve this problem:\n",
    "- <a href=\"https://towardsdatascience.com/machine-learning-powered-churn-analysis-for-modern-day-business-leaders-ad2177e1cb0d?gi=145fe87dc040\">Machine Learning Powered Churn Analysis for Modern Day Business Leaders - Anupam Kundu</a>\n",
    "- <a href=\"https://www.datascience.com/blog/churn-prediction-python\">Introduction to Churn Prediction in Python - Seyed Sajjadi </a>\n",
    "- <a href=\"https://towardsdatascience.com/hands-on-predict-customer-churn-5c2a42806266?gi=83aaf592063d\">Hands-on: Predict Customer Churn</a>\n",
    "- <a href=\"https://www.kaggle.com/pavanraj159/telecom-customer-churn-prediction\">Telecom Customer Churn Prediction</a>"
   ]
  },
  {
   "cell_type": "markdown",
   "metadata": {},
   "source": [
    "### Evaluation \n",
    "\n",
    "Among the many different measures of a model's skill, there are 4 base ratios(Sensitivity(true positive rate, Specificity (true negative rate), Precision and Recall(sensitivity) deserves higher importance: ROC  and Precision Recall. The former shows the rate of correctly identified true positives with the rate incorrectly identified true negative while the latter shows the percentage of true positives in the  selected items and the  percentage of captured positive items at any given threshold. The difference is, ofcourse, that the Precision and recall relies only on the positive cases and as such it is meaningful even in cases of strong class imbalance. "
   ]
  },
  {
   "cell_type": "markdown",
   "metadata": {},
   "source": [
    "### Exploratory Data Analysis"
   ]
  },
  {
   "cell_type": "code",
   "execution_count": 2,
   "metadata": {},
   "outputs": [],
   "source": [
    "%%capture \n",
    "#preventing the installation data spoiling the document\n",
    "import sys\n",
    "!conda install  --yes --prefix {sys.prefix} -c conda-forge imbalanced-learn #sys.prefix prevents installation to defaulting to the default python version.\n",
    "!conda install  --yes --prefix {sys.prefix} plotly\n",
    "!conda install  --yes --prefix {sys.prefix} -c conda-forge  xgboost\n",
    "import pandas as pd\n",
    "import numpy as np"
   ]
  },
  {
   "cell_type": "code",
   "execution_count": 3,
   "metadata": {
    "scrolled": true
   },
   "outputs": [
    {
     "data": {
      "text/html": [
       "<div>\n",
       "<style scoped>\n",
       "    .dataframe tbody tr th:only-of-type {\n",
       "        vertical-align: middle;\n",
       "    }\n",
       "\n",
       "    .dataframe tbody tr th {\n",
       "        vertical-align: top;\n",
       "    }\n",
       "\n",
       "    .dataframe thead th {\n",
       "        text-align: right;\n",
       "    }\n",
       "</style>\n",
       "<table border=\"1\" class=\"dataframe\">\n",
       "  <thead>\n",
       "    <tr style=\"text-align: right;\">\n",
       "      <th></th>\n",
       "      <th>region</th>\n",
       "      <th>tenure</th>\n",
       "      <th>age</th>\n",
       "      <th>marital</th>\n",
       "      <th>address</th>\n",
       "      <th>income</th>\n",
       "      <th>ed</th>\n",
       "      <th>employ</th>\n",
       "      <th>retire</th>\n",
       "      <th>gender</th>\n",
       "      <th>...</th>\n",
       "      <th>voice</th>\n",
       "      <th>pager</th>\n",
       "      <th>internet</th>\n",
       "      <th>callid</th>\n",
       "      <th>callwait</th>\n",
       "      <th>forward</th>\n",
       "      <th>confer</th>\n",
       "      <th>ebill</th>\n",
       "      <th>custcat</th>\n",
       "      <th>churn</th>\n",
       "    </tr>\n",
       "  </thead>\n",
       "  <tbody>\n",
       "    <tr>\n",
       "      <th>0</th>\n",
       "      <td>2</td>\n",
       "      <td>13</td>\n",
       "      <td>44</td>\n",
       "      <td>1</td>\n",
       "      <td>9</td>\n",
       "      <td>64.0</td>\n",
       "      <td>4</td>\n",
       "      <td>5</td>\n",
       "      <td>0.0</td>\n",
       "      <td>0</td>\n",
       "      <td>...</td>\n",
       "      <td>0</td>\n",
       "      <td>0</td>\n",
       "      <td>0</td>\n",
       "      <td>0</td>\n",
       "      <td>0</td>\n",
       "      <td>1</td>\n",
       "      <td>0</td>\n",
       "      <td>0</td>\n",
       "      <td>1</td>\n",
       "      <td>1</td>\n",
       "    </tr>\n",
       "    <tr>\n",
       "      <th>1</th>\n",
       "      <td>3</td>\n",
       "      <td>11</td>\n",
       "      <td>33</td>\n",
       "      <td>1</td>\n",
       "      <td>7</td>\n",
       "      <td>136.0</td>\n",
       "      <td>5</td>\n",
       "      <td>5</td>\n",
       "      <td>0.0</td>\n",
       "      <td>0</td>\n",
       "      <td>...</td>\n",
       "      <td>1</td>\n",
       "      <td>1</td>\n",
       "      <td>0</td>\n",
       "      <td>1</td>\n",
       "      <td>1</td>\n",
       "      <td>1</td>\n",
       "      <td>1</td>\n",
       "      <td>0</td>\n",
       "      <td>4</td>\n",
       "      <td>1</td>\n",
       "    </tr>\n",
       "    <tr>\n",
       "      <th>2</th>\n",
       "      <td>3</td>\n",
       "      <td>68</td>\n",
       "      <td>52</td>\n",
       "      <td>1</td>\n",
       "      <td>24</td>\n",
       "      <td>116.0</td>\n",
       "      <td>1</td>\n",
       "      <td>29</td>\n",
       "      <td>0.0</td>\n",
       "      <td>1</td>\n",
       "      <td>...</td>\n",
       "      <td>0</td>\n",
       "      <td>0</td>\n",
       "      <td>0</td>\n",
       "      <td>1</td>\n",
       "      <td>1</td>\n",
       "      <td>0</td>\n",
       "      <td>1</td>\n",
       "      <td>0</td>\n",
       "      <td>3</td>\n",
       "      <td>0</td>\n",
       "    </tr>\n",
       "    <tr>\n",
       "      <th>3</th>\n",
       "      <td>2</td>\n",
       "      <td>33</td>\n",
       "      <td>33</td>\n",
       "      <td>0</td>\n",
       "      <td>12</td>\n",
       "      <td>33.0</td>\n",
       "      <td>2</td>\n",
       "      <td>0</td>\n",
       "      <td>0.0</td>\n",
       "      <td>1</td>\n",
       "      <td>...</td>\n",
       "      <td>0</td>\n",
       "      <td>0</td>\n",
       "      <td>0</td>\n",
       "      <td>0</td>\n",
       "      <td>0</td>\n",
       "      <td>0</td>\n",
       "      <td>0</td>\n",
       "      <td>0</td>\n",
       "      <td>1</td>\n",
       "      <td>1</td>\n",
       "    </tr>\n",
       "    <tr>\n",
       "      <th>4</th>\n",
       "      <td>2</td>\n",
       "      <td>23</td>\n",
       "      <td>30</td>\n",
       "      <td>1</td>\n",
       "      <td>9</td>\n",
       "      <td>30.0</td>\n",
       "      <td>1</td>\n",
       "      <td>2</td>\n",
       "      <td>0.0</td>\n",
       "      <td>0</td>\n",
       "      <td>...</td>\n",
       "      <td>0</td>\n",
       "      <td>0</td>\n",
       "      <td>0</td>\n",
       "      <td>1</td>\n",
       "      <td>0</td>\n",
       "      <td>1</td>\n",
       "      <td>1</td>\n",
       "      <td>0</td>\n",
       "      <td>3</td>\n",
       "      <td>0</td>\n",
       "    </tr>\n",
       "  </tbody>\n",
       "</table>\n",
       "<p>5 rows × 36 columns</p>\n",
       "</div>"
      ],
      "text/plain": [
       "   region  tenure  age  marital  address  income  ed  employ  retire  gender  \\\n",
       "0       2      13   44        1        9    64.0   4       5     0.0       0   \n",
       "1       3      11   33        1        7   136.0   5       5     0.0       0   \n",
       "2       3      68   52        1       24   116.0   1      29     0.0       1   \n",
       "3       2      33   33        0       12    33.0   2       0     0.0       1   \n",
       "4       2      23   30        1        9    30.0   1       2     0.0       0   \n",
       "\n",
       "   ...  voice  pager  internet  callid  callwait  forward  confer  ebill  \\\n",
       "0  ...      0      0         0       0         0        1       0      0   \n",
       "1  ...      1      1         0       1         1        1       1      0   \n",
       "2  ...      0      0         0       1         1        0       1      0   \n",
       "3  ...      0      0         0       0         0        0       0      0   \n",
       "4  ...      0      0         0       1         0        1       1      0   \n",
       "\n",
       "   custcat  churn  \n",
       "0        1      1  \n",
       "1        4      1  \n",
       "2        3      0  \n",
       "3        1      1  \n",
       "4        3      0  \n",
       "\n",
       "[5 rows x 36 columns]"
      ]
     },
     "execution_count": 3,
     "metadata": {},
     "output_type": "execute_result"
    }
   ],
   "source": [
    "df = pd.read_csv(filepath_or_buffer=r\"/home/letienne/Documents/Code/Python/VodaFoneDataScientistTest/telco.csv\",sep=',',encoding='UTF-8',decimal='.')\n",
    "df.head()"
   ]
  },
  {
   "cell_type": "code",
   "execution_count": 4,
   "metadata": {},
   "outputs": [
    {
     "data": {
      "text/plain": [
       "<Figure size 640x480 with 1 Axes>"
      ]
     },
     "metadata": {},
     "output_type": "display_data"
    }
   ],
   "source": [
    "#Piecharts are one of the most popular ways to represent simple distribution \n",
    "sizes = df['churn'].value_counts(sort = True)\n",
    "colors = [\"red\",\"pink\"] \n",
    "labels=[\"Retained\",\"Churned\"]\n",
    "import matplotlib.pyplot as plt \n",
    "# Plot\n",
    "plt.pie(sizes, explode=None, colors=colors,\n",
    "        autopct='%1.1f%%', labels=labels,shadow=True, startangle=90)\n",
    "\n",
    "plt.title('The size of the churned customers as a ratio of all observations.')\n",
    "plt.show()"
   ]
  },
  {
   "cell_type": "markdown",
   "metadata": {},
   "source": [
    "## Data PreProcessing"
   ]
  },
  {
   "cell_type": "code",
   "execution_count": 5,
   "metadata": {},
   "outputs": [],
   "source": [
    "from sklearn.preprocessing import StandardScaler\n",
    "from sklearn.preprocessing import LabelEncoder\n",
    "le = LabelEncoder()\n",
    "df = pd.read_csv(filepath_or_buffer=r\"/home/letienne/Documents/Code/Python/VodaFoneDataScientistTest/telco.csv\",sep=',',encoding='UTF-8',decimal='.')\n",
    "\n",
    "col_Flags=['tollfree', 'equip', 'callcard', 'wireless','multline','voice','pager','internet','callid','callwait','forward','confer','ebill','churn']\n",
    "col_Factors=['region', 'marital', 'retire', 'gender','custcat']\n",
    "col_Ordinal=['ed']\n",
    "col_Target = ['churn']\n",
    "col_Continuous= [x for x in df.columns if x not in col_Factors + col_Ordinal + col_Flags]\n",
    "for col in col_Factors:\n",
    "    df[col] = df[col].astype('category')\n",
    "for col in col_Flags:    \n",
    "    df[col] = df[col].astype('uint8')\n",
    "for col in col_Ordinal:    #LabelEncoding doesn't really have an effect on booleans coded in numerical variables but it is one of the ways to handle ordinal data without forgoing the additional information compared to factors.\n",
    "    df[col] = le.fit_transform(df[col])\n",
    "for col in col_Continuous:    \n",
    "    df[col] = df[col].astype('float64')\n",
    "df = pd.get_dummies(data = df,columns = col_Factors+col_Ordinal)\n",
    "\n",
    "#Scaling Numerical columns. most models - with the notable exception of tree based algorithms - are highly sensitive to numerical data that had not been scaled and centered.   \n",
    "std = StandardScaler()\n",
    "scaled = std.fit_transform(df[col_Continuous])\n",
    "scaled = pd.DataFrame(scaled,columns=col_Continuous)\n",
    "\n",
    "df_original = df.copy()\n",
    "df = df.drop(columns = col_Continuous,axis = 1)\n",
    "df = df.merge(scaled,left_index=True,right_index=True,how = \"left\") \n"
   ]
  },
  {
   "cell_type": "markdown",
   "metadata": {},
   "source": [
    "## Variable summary\n",
    "Thankfully, no missing values were found in this dataset."
   ]
  },
  {
   "cell_type": "code",
   "execution_count": 6,
   "metadata": {},
   "outputs": [
    {
     "data": {
      "text/html": [
       "        <script type=\"text/javascript\">\n",
       "        window.PlotlyConfig = {MathJaxConfig: 'local'};\n",
       "        if (window.MathJax) {MathJax.Hub.Config({SVG: {font: \"STIX-Web\"}});}\n",
       "        if (typeof require !== 'undefined') {\n",
       "        require.undef(\"plotly\");\n",
       "        requirejs.config({\n",
       "            paths: {\n",
       "                'plotly': ['https://cdn.plot.ly/plotly-latest.min']\n",
       "            }\n",
       "        });\n",
       "        require(['plotly'], function(Plotly) {\n",
       "            window._Plotly = Plotly;\n",
       "        });\n",
       "        }\n",
       "        </script>\n",
       "        "
      ]
     },
     "metadata": {},
     "output_type": "display_data"
    },
    {
     "data": {
      "application/vnd.plotly.v1+json": {
       "config": {
        "linkText": "Export to plot.ly",
        "plotlyServerURL": "https://plot.ly",
        "responsive": true,
        "showLink": false
       },
       "data": [
        {
         "cells": {
          "fill": {
           "color": [
            "#ffffff",
            "#ffffff"
           ]
          },
          "line": {
           "color": [
            "#506784"
           ]
          },
          "values": [
           [
            "tenure",
            "age",
            "address",
            "income",
            "employ",
            "reside",
            "tollfree",
            "equip",
            "callcard",
            "wireless",
            "longmon",
            "tollmon",
            "equipmon",
            "cardmon",
            "wiremon",
            "longten",
            "tollten",
            "equipten",
            "cardten",
            "wireten",
            "multline",
            "voice",
            "pager",
            "internet",
            "callid",
            "callwait",
            "forward",
            "confer",
            "ebill",
            "churn",
            "region_1",
            "region_2",
            "region_3",
            "marital_0",
            "marital_1",
            "retire_0.0",
            "retire_1.0",
            "gender_0",
            "gender_1",
            "custcat_1",
            "custcat_2",
            "custcat_3",
            "custcat_4",
            "ed_0",
            "ed_1",
            "ed_2",
            "ed_3",
            "ed_4"
           ],
           [
            1000,
            1000,
            1000,
            1000,
            1000,
            1000,
            1000,
            1000,
            1000,
            1000,
            1000,
            1000,
            1000,
            1000,
            1000,
            1000,
            1000,
            1000,
            1000,
            1000,
            1000,
            1000,
            1000,
            1000,
            1000,
            1000,
            1000,
            1000,
            1000,
            1000,
            1000,
            1000,
            1000,
            1000,
            1000,
            1000,
            1000,
            1000,
            1000,
            1000,
            1000,
            1000,
            1000,
            1000,
            1000,
            1000,
            1000,
            1000
           ],
           [
            35.526,
            41.684,
            11.551,
            77.535,
            10.987,
            2.331,
            0.474,
            0.386,
            0.678,
            0.296,
            11.723,
            13.274,
            14.22,
            13.781,
            11.584,
            574.05,
            551.258,
            465.633,
            605.774,
            442.737,
            0.475,
            0.304,
            0.261,
            0.368,
            0.481,
            0.485,
            0.493,
            0.502,
            0.371,
            0.274,
            0.322,
            0.334,
            0.344,
            0.505,
            0.495,
            0.953,
            0.047,
            0.483,
            0.517,
            0.266,
            0.217,
            0.281,
            0.236,
            0.204,
            0.287,
            0.209,
            0.234,
            0.066
           ],
           [
            21.36,
            12.559,
            10.087,
            107.044,
            10.082,
            1.436,
            0.5,
            0.487,
            0.467,
            0.457,
            10.363,
            16.902,
            19.069,
            14.084,
            19.719,
            789.974,
            915.747,
            857.273,
            830.126,
            971.471,
            0.5,
            0.46,
            0.439,
            0.483,
            0.5,
            0.5,
            0.5,
            0.5,
            0.483,
            0.446,
            0.467,
            0.472,
            0.475,
            0.5,
            0.5,
            0.212,
            0.212,
            0.5,
            0.5,
            0.442,
            0.412,
            0.45,
            0.425,
            0.403,
            0.453,
            0.407,
            0.424,
            0.248
           ],
           [
            1,
            18,
            0,
            9,
            0,
            1,
            0,
            0,
            0,
            0,
            0.9,
            0,
            0,
            0,
            0,
            0.9,
            0,
            0,
            0,
            0,
            0,
            0,
            0,
            0,
            0,
            0,
            0,
            0,
            0,
            0,
            0,
            0,
            0,
            0,
            0,
            0,
            0,
            0,
            0,
            0,
            0,
            0,
            0,
            0,
            0,
            0,
            0,
            0
           ],
           [
            17,
            32,
            3,
            29,
            3,
            1,
            0,
            0,
            0,
            0,
            5.2,
            0,
            0,
            0,
            0,
            90.138,
            0,
            0,
            0,
            0,
            0,
            0,
            0,
            0,
            0,
            0,
            0,
            0,
            0,
            0,
            0,
            0,
            0,
            0,
            0,
            1,
            0,
            0,
            0,
            0,
            0,
            0,
            0,
            0,
            0,
            0,
            0,
            0
           ],
           [
            34,
            40,
            9,
            47,
            8,
            2,
            0,
            0,
            1,
            0,
            8.525,
            0,
            0,
            12,
            0,
            285.475,
            0,
            0,
            332.5,
            0,
            0,
            0,
            0,
            0,
            0,
            0,
            0,
            1,
            0,
            0,
            0,
            0,
            0,
            1,
            0,
            1,
            0,
            0,
            1,
            0,
            0,
            0,
            0,
            0,
            0,
            0,
            0,
            0
           ],
           [
            54,
            51,
            18,
            83,
            17,
            3,
            1,
            1,
            1,
            1,
            14.413,
            24.25,
            31.475,
            20.5,
            24.712,
            755.025,
            846.9,
            579.45,
            910,
            316.5,
            1,
            1,
            1,
            1,
            1,
            1,
            1,
            1,
            1,
            1,
            1,
            1,
            1,
            1,
            1,
            1,
            0,
            1,
            1,
            1,
            0,
            1,
            0,
            0,
            1,
            0,
            0,
            0
           ],
           [
            72,
            77,
            55,
            1668,
            47,
            8,
            1,
            1,
            1,
            1,
            99.95,
            173,
            77.7,
            109.25,
            111.95,
            7257.6,
            5916,
            5028.65,
            7515,
            7856.85,
            1,
            1,
            1,
            1,
            1,
            1,
            1,
            1,
            1,
            1,
            1,
            1,
            1,
            1,
            1,
            1,
            1,
            1,
            1,
            1,
            1,
            1,
            1,
            1,
            1,
            1,
            1,
            1
           ],
           [
            0,
            0,
            0,
            0,
            0,
            0,
            0,
            0,
            0,
            0,
            0,
            0,
            0,
            0,
            0,
            0,
            0,
            0,
            0,
            0,
            0,
            0,
            0,
            0,
            0,
            0,
            0,
            0,
            0,
            0,
            0,
            0,
            0,
            0,
            0,
            0,
            0,
            0,
            0,
            0,
            0,
            0,
            0,
            0,
            0,
            0,
            0,
            0
           ]
          ]
         },
         "columnwidth": [
          200,
          60,
          100,
          100,
          60,
          60,
          80,
          80,
          80
         ],
         "header": {
          "fill": {
           "color": [
            "#E60000"
           ]
          },
          "font": {
           "color": [
            "#ffffff"
           ]
          },
          "line": {
           "color": [
            "#ffffff"
           ]
          },
          "values": [
           "feature",
           "count",
           "mean",
           "std",
           "min",
           "25%",
           "50%",
           "75%",
           "max",
           "Missing"
          ]
         },
         "type": "table",
         "uid": "93a3a804-44e7-4a1c-ad06-354b46ad5443"
        }
       ],
       "layout": {
        "title": {
         "text": "Feature  Summary"
        }
       }
      },
      "text/html": [
       "<div>\n",
       "        \n",
       "        \n",
       "            <div id=\"73c269ff-d356-4c97-b924-c78737965bbf\" class=\"plotly-graph-div\" style=\"height:525px; width:100%;\"></div>\n",
       "            <script type=\"text/javascript\">\n",
       "                require([\"plotly\"], function(Plotly) {\n",
       "                    window.PLOTLYENV=window.PLOTLYENV || {};\n",
       "                    window.PLOTLYENV.BASE_URL='https://plot.ly';\n",
       "                    \n",
       "                if (document.getElementById(\"73c269ff-d356-4c97-b924-c78737965bbf\")) {\n",
       "                    Plotly.newPlot(\n",
       "                        '73c269ff-d356-4c97-b924-c78737965bbf',\n",
       "                        [{\"cells\": {\"fill\": {\"color\": [\"#ffffff\", \"#ffffff\"]}, \"line\": {\"color\": [\"#506784\"]}, \"values\": [[\"tenure\", \"age\", \"address\", \"income\", \"employ\", \"reside\", \"tollfree\", \"equip\", \"callcard\", \"wireless\", \"longmon\", \"tollmon\", \"equipmon\", \"cardmon\", \"wiremon\", \"longten\", \"tollten\", \"equipten\", \"cardten\", \"wireten\", \"multline\", \"voice\", \"pager\", \"internet\", \"callid\", \"callwait\", \"forward\", \"confer\", \"ebill\", \"churn\", \"region_1\", \"region_2\", \"region_3\", \"marital_0\", \"marital_1\", \"retire_0.0\", \"retire_1.0\", \"gender_0\", \"gender_1\", \"custcat_1\", \"custcat_2\", \"custcat_3\", \"custcat_4\", \"ed_0\", \"ed_1\", \"ed_2\", \"ed_3\", \"ed_4\"], [1000.0, 1000.0, 1000.0, 1000.0, 1000.0, 1000.0, 1000.0, 1000.0, 1000.0, 1000.0, 1000.0, 1000.0, 1000.0, 1000.0, 1000.0, 1000.0, 1000.0, 1000.0, 1000.0, 1000.0, 1000.0, 1000.0, 1000.0, 1000.0, 1000.0, 1000.0, 1000.0, 1000.0, 1000.0, 1000.0, 1000.0, 1000.0, 1000.0, 1000.0, 1000.0, 1000.0, 1000.0, 1000.0, 1000.0, 1000.0, 1000.0, 1000.0, 1000.0, 1000.0, 1000.0, 1000.0, 1000.0, 1000.0], [35.526, 41.684, 11.551, 77.535, 10.987, 2.331, 0.474, 0.386, 0.678, 0.296, 11.723, 13.274, 14.22, 13.781, 11.584, 574.05, 551.258, 465.633, 605.774, 442.737, 0.475, 0.304, 0.261, 0.368, 0.481, 0.485, 0.493, 0.502, 0.371, 0.274, 0.322, 0.334, 0.344, 0.505, 0.495, 0.953, 0.047, 0.483, 0.517, 0.266, 0.217, 0.281, 0.236, 0.204, 0.287, 0.209, 0.234, 0.066], [21.36, 12.559, 10.087, 107.044, 10.082, 1.436, 0.5, 0.487, 0.467, 0.457, 10.363, 16.902, 19.069, 14.084, 19.719, 789.974, 915.747, 857.273, 830.126, 971.471, 0.5, 0.46, 0.439, 0.483, 0.5, 0.5, 0.5, 0.5, 0.483, 0.446, 0.467, 0.472, 0.475, 0.5, 0.5, 0.212, 0.212, 0.5, 0.5, 0.442, 0.412, 0.45, 0.425, 0.403, 0.453, 0.407, 0.424, 0.248], [1.0, 18.0, 0.0, 9.0, 0.0, 1.0, 0.0, 0.0, 0.0, 0.0, 0.9, 0.0, 0.0, 0.0, 0.0, 0.9, 0.0, 0.0, 0.0, 0.0, 0.0, 0.0, 0.0, 0.0, 0.0, 0.0, 0.0, 0.0, 0.0, 0.0, 0.0, 0.0, 0.0, 0.0, 0.0, 0.0, 0.0, 0.0, 0.0, 0.0, 0.0, 0.0, 0.0, 0.0, 0.0, 0.0, 0.0, 0.0], [17.0, 32.0, 3.0, 29.0, 3.0, 1.0, 0.0, 0.0, 0.0, 0.0, 5.2, 0.0, 0.0, 0.0, 0.0, 90.138, 0.0, 0.0, 0.0, 0.0, 0.0, 0.0, 0.0, 0.0, 0.0, 0.0, 0.0, 0.0, 0.0, 0.0, 0.0, 0.0, 0.0, 0.0, 0.0, 1.0, 0.0, 0.0, 0.0, 0.0, 0.0, 0.0, 0.0, 0.0, 0.0, 0.0, 0.0, 0.0], [34.0, 40.0, 9.0, 47.0, 8.0, 2.0, 0.0, 0.0, 1.0, 0.0, 8.525, 0.0, 0.0, 12.0, 0.0, 285.475, 0.0, 0.0, 332.5, 0.0, 0.0, 0.0, 0.0, 0.0, 0.0, 0.0, 0.0, 1.0, 0.0, 0.0, 0.0, 0.0, 0.0, 1.0, 0.0, 1.0, 0.0, 0.0, 1.0, 0.0, 0.0, 0.0, 0.0, 0.0, 0.0, 0.0, 0.0, 0.0], [54.0, 51.0, 18.0, 83.0, 17.0, 3.0, 1.0, 1.0, 1.0, 1.0, 14.413, 24.25, 31.475, 20.5, 24.712, 755.025, 846.9, 579.45, 910.0, 316.5, 1.0, 1.0, 1.0, 1.0, 1.0, 1.0, 1.0, 1.0, 1.0, 1.0, 1.0, 1.0, 1.0, 1.0, 1.0, 1.0, 0.0, 1.0, 1.0, 1.0, 0.0, 1.0, 0.0, 0.0, 1.0, 0.0, 0.0, 0.0], [72.0, 77.0, 55.0, 1668.0, 47.0, 8.0, 1.0, 1.0, 1.0, 1.0, 99.95, 173.0, 77.7, 109.25, 111.95, 7257.6, 5916.0, 5028.65, 7515.0, 7856.85, 1.0, 1.0, 1.0, 1.0, 1.0, 1.0, 1.0, 1.0, 1.0, 1.0, 1.0, 1.0, 1.0, 1.0, 1.0, 1.0, 1.0, 1.0, 1.0, 1.0, 1.0, 1.0, 1.0, 1.0, 1.0, 1.0, 1.0, 1.0], [0, 0, 0, 0, 0, 0, 0, 0, 0, 0, 0, 0, 0, 0, 0, 0, 0, 0, 0, 0, 0, 0, 0, 0, 0, 0, 0, 0, 0, 0, 0, 0, 0, 0, 0, 0, 0, 0, 0, 0, 0, 0, 0, 0, 0, 0, 0, 0]]}, \"columnwidth\": [200, 60, 100, 100, 60, 60, 80, 80, 80], \"header\": {\"fill\": {\"color\": [\"#E60000\"]}, \"font\": {\"color\": [\"#ffffff\"]}, \"line\": {\"color\": [\"#ffffff\"]}, \"values\": [\"feature\", \"count\", \"mean\", \"std\", \"min\", \"25%\", \"50%\", \"75%\", \"max\", \"Missing\"]}, \"type\": \"table\", \"uid\": \"3a1c2417-9992-4211-a3e2-26659354752b\"}],\n",
       "                        {\"title\": {\"text\": \"Feature  Summary\"}},\n",
       "                        {\"showLink\": false, \"linkText\": \"Export to plot.ly\", \"plotlyServerURL\": \"https://plot.ly\", \"responsive\": true}\n",
       "                    ).then(function(){\n",
       "                            \n",
       "var gd = document.getElementById('73c269ff-d356-4c97-b924-c78737965bbf');\n",
       "var x = new MutationObserver(function (mutations, observer) {{\n",
       "        var display = window.getComputedStyle(gd).display;\n",
       "        if (!display || display === 'none') {{\n",
       "            console.log([gd, 'removed!']);\n",
       "            Plotly.purge(gd);\n",
       "            observer.disconnect();\n",
       "        }}\n",
       "}});\n",
       "\n",
       "// Listen for the removal of the full notebook cells\n",
       "var notebookContainer = gd.closest('#notebook-container');\n",
       "if (notebookContainer) {{\n",
       "    x.observe(notebookContainer, {childList: true});\n",
       "}}\n",
       "\n",
       "// Listen for the clearing of the current output cell\n",
       "var outputEl = gd.closest('.output');\n",
       "if (outputEl) {{\n",
       "    x.observe(outputEl, {childList: true});\n",
       "}}\n",
       "\n",
       "                        })\n",
       "                };\n",
       "                });\n",
       "            </script>\n",
       "        </div>"
      ]
     },
     "metadata": {},
     "output_type": "display_data"
    }
   ],
   "source": [
    "import plotly.graph_objs as go\n",
    "import plotly.offline as py #visualization\n",
    "import warnings as warnings\n",
    "py.init_notebook_mode(connected=True)#visualization\n",
    "warnings.filterwarnings(\"ignore\")\n",
    "\n",
    "Nullvalues=pd.DataFrame(df_original.isnull().sum())\n",
    "Nullvalues.rename(columns={0: \"Missing\"},inplace=True)\n",
    "\n",
    "summary = (df_original[[i for i in df_original.columns]].\n",
    "           describe().transpose().reset_index())\n",
    "\n",
    "summary = summary.rename(columns = {\"index\" : \"feature\"})\n",
    "summary = np.around(summary,3)\n",
    "summary = pd.merge(summary, Nullvalues, left_on='feature',right_index=True)\n",
    "\n",
    "val_lst = [summary['feature'], summary['count'],\n",
    "           summary['mean'],summary['std'],\n",
    "           summary['min'], summary['25%'],\n",
    "           summary['50%'], summary['75%'], summary['max'],summary['Missing']]\n",
    "\n",
    "#using branding compatible colours \n",
    "trace  = go.Table(header = dict(values = summary.columns.tolist(),\n",
    "                                line = dict(color = ['#ffffff']),\n",
    "                                fill = dict(color = ['#E60000']),\n",
    "                                font = dict(color = ['#ffffff'])                                \n",
    "                               ),\n",
    "                  cells  = dict(values = val_lst,\n",
    "                                line = dict(color = ['#506784']),\n",
    "                                fill = dict(color = [\"#ffffff\",'#ffffff'])\n",
    "                               ),\n",
    "                  columnwidth = [200,60,100,100,60,60,80,80,80])\n",
    "layout = go.Layout(dict(title = \"Feature  Summary\"))\n",
    "figure = go.Figure(data=[trace],layout=layout)\n",
    "py.iplot(figure)"
   ]
  },
  {
   "cell_type": "markdown",
   "metadata": {},
   "source": [
    "# Model Building"
   ]
  },
  {
   "cell_type": "markdown",
   "metadata": {},
   "source": [
    "### Synthetic Minority OverSampling technique\n",
    "It seems that the target variable is a somewhat imbalanced. In such cases, increasing the share number of the minority outcome could improve certain models. One frequently used way to do this is oversampling, specifically the synthetic Minority Oversampling technique from the imbalanced-learning package."
   ]
  },
  {
   "cell_type": "code",
   "execution_count": 429,
   "metadata": {},
   "outputs": [],
   "source": [
    "from sklearn.model_selection import train_test_split\n",
    "col_features    = [i for i in df.columns if i not in col_Target]\n",
    "from imblearn.over_sampling import SMOTE\n",
    "\n",
    "train_X,test_X,train_Y,test_Y = train_test_split(df[col_features],df[col_Target],\n",
    "                                                                         test_size = .20 ,\n",
    "                                                                         random_state = 1986)\n",
    "os = SMOTE(random_state = 0)\n",
    "resampled_X,resampled_Y = os.fit_sample(train_X,train_Y)\n",
    "resampled_X = pd.DataFrame(data = os_smote_X,columns=col_features)\n",
    "resampled_Y = pd.DataFrame(data = resampled_Y,columns=col_Target)"
   ]
  },
  {
   "cell_type": "markdown",
   "metadata": {},
   "source": [
    "### Functions"
   ]
  },
  {
   "cell_type": "code",
   "execution_count": 430,
   "metadata": {},
   "outputs": [],
   "source": [
    "from sklearn.metrics import confusion_matrix,accuracy_score,classification_report, roc_auc_score, \\\n",
    "roc_curve,scorer,precision_score,recall_score \n",
    "from sklearn.model_selection import cross_val_score,RandomizedSearchCV\n",
    "\n",
    "def GetMetricRecord(Model,ModelName,train_X,train_Y,test_x,test_y):\n",
    "    Model.fit(train_X,train_Y)\n",
    "    Y_hat   = Model.predict(test_x)\n",
    "    #Probabilities = Model.predict_proba(Features)\n",
    "    auroc = roc_auc_score(test_y.values.ravel(),Y_hat)\n",
    "    acc=accuracy_score(test_y.values.ravel(),Y_hat)\n",
    "    #auroc = cross_val_score(Model, X, y, cv=10, scoring='roc_auc').mean() # using crossvalidation to mitigate effects from the sampling\n",
    "    recall  = recall_score(test_y.values.ravel(),Y_hat)\n",
    "    return pd.DataFrame({'Accuracy':[acc],'AUC':[auroc],'RecallScore':[recall]},index=[ModelName])"
   ]
  },
  {
   "cell_type": "markdown",
   "metadata": {},
   "source": [
    "### Simple Logistic Regression"
   ]
  },
  {
   "cell_type": "code",
   "execution_count": 431,
   "metadata": {},
   "outputs": [],
   "source": [
    "from sklearn.linear_model import LogisticRegression\n",
    "logit = LogisticRegression(C=1.0, class_weight=None, dual=False, fit_intercept=True,\n",
    "          intercept_scaling=1, max_iter=100, multi_class='ovr', n_jobs=1,\n",
    "          penalty='l2', random_state=None, solver='liblinear', tol=0.0001,\n",
    "          verbose=0, warm_start=False)"
   ]
  },
  {
   "cell_type": "markdown",
   "metadata": {},
   "source": [
    "### Extreme Gradient Boosting\n",
    "It recently became one of the most popular technique in machine learning, an ubiquitous feature of kaggle competitions. It has numerous advantages over standard boosting techniques like  built in paralelisation and cross-validation capability, the latter of which helps limiting exposure to variance in sampling and the former grants it an immense boost on servers and other high-core count workstations. \n",
    "In the below base model, of the two available booster models - tree and linear - , the tree one is used as it is known to be greatly outperforming the latter."
   ]
  },
  {
   "cell_type": "code",
   "execution_count": 432,
   "metadata": {},
   "outputs": [],
   "source": [
    "from xgboost import XGBClassifier\n",
    "\n",
    "XGBModel=XGBClassifier(base_score=0.5, booster='gbtree', colsample_bylevel=1,\n",
    "                    colsample_bytree=1, gamma=0, learning_rate=0.9, max_delta_step=0,\n",
    "                    max_depth = 7, min_child_weight=1, missing=None, n_estimators=100,\n",
    "                    n_jobs=1, nthread=None, objective='binary:logistic', random_state=0,\n",
    "                    reg_alpha=0, reg_lambda=1, scale_pos_weight=1, seed=None,\n",
    "                    silent=True, subsample=1)"
   ]
  },
  {
   "cell_type": "markdown",
   "metadata": {},
   "source": [
    "### RandomForests"
   ]
  },
  {
   "cell_type": "code",
   "execution_count": 433,
   "metadata": {},
   "outputs": [],
   "source": [
    "from sklearn.ensemble import RandomForestClassifier\n",
    "RForest = RandomForestClassifier()"
   ]
  },
  {
   "cell_type": "markdown",
   "metadata": {},
   "source": [
    "### Support Vector Machines"
   ]
  },
  {
   "cell_type": "code",
   "execution_count": 434,
   "metadata": {},
   "outputs": [],
   "source": [
    "from sklearn.svm import SVC\n",
    "SVCLinear  = SVC(C=1.0, cache_size=200, class_weight=None, coef0=0.0,\n",
    "               decision_function_shape='ovr', degree=3, gamma=1.0, kernel='linear',\n",
    "               max_iter=-1, probability=True, random_state=None, shrinking=True,\n",
    "               tol=0.001, verbose=False)\n",
    "SVCrbf  = SVC(C=1.0, cache_size=200, class_weight=None, coef0=0.0, #the default\n",
    "               decision_function_shape='ovr', degree=3, gamma=1.0, kernel='rbf',  \n",
    "               max_iter=-1, probability=True, random_state=None, shrinking=True,\n",
    "               tol=0.001, verbose=False)"
   ]
  },
  {
   "cell_type": "markdown",
   "metadata": {},
   "source": [
    "### Model Selection"
   ]
  },
  {
   "cell_type": "code",
   "execution_count": 435,
   "metadata": {},
   "outputs": [
    {
     "data": {
      "application/vnd.plotly.v1+json": {
       "config": {
        "linkText": "Export to plot.ly",
        "plotlyServerURL": "https://plot.ly",
        "showLink": false
       },
       "data": [
        {
         "cells": {
          "fill": {
           "color": [
            "#ffffff",
            "#ffffff"
           ]
          },
          "line": {
           "color": [
            "#506784"
           ]
          },
          "values": [
           [
            "SVCLinear",
            "SVCrbf",
            "XGB1",
            "logit",
            "RForest"
           ],
           [
            0.675,
            0.73,
            0.69,
            0.69,
            0.7
           ],
           [
            0.646,
            0.509,
            0.594,
            0.673,
            0.573
           ],
           [
            0.582,
            0.018,
            0.382,
            0.636,
            0.291
           ]
          ]
         },
         "columnwidth": [
          60,
          100,
          100,
          100
         ],
         "header": {
          "fill": {
           "color": [
            "#E60000"
           ]
          },
          "font": {
           "color": [
            "#ffffff"
           ]
          },
          "line": {
           "color": [
            "#ffffff"
           ]
          },
          "values": [
           "ModelName",
           "Accuracy",
           "AUC",
           "RecallScore"
          ]
         },
         "type": "table",
         "uid": "1c7c276a-9e0c-44f9-98ab-5ffb5bd2d84c"
        }
       ],
       "layout": {
        "title": {
         "text": "Model Measurements"
        }
       }
      },
      "text/html": [
       "<div id=\"9a1dfa4d-f707-4e78-af75-d982fc649a35\" style=\"height: 525px; width: 100%;\" class=\"plotly-graph-div\"></div><script type=\"text/javascript\">require([\"plotly\"], function(Plotly) { window.PLOTLYENV=window.PLOTLYENV || {};window.PLOTLYENV.BASE_URL=\"https://plot.ly\";\n",
       "if (document.getElementById(\"9a1dfa4d-f707-4e78-af75-d982fc649a35\")) {\n",
       "    Plotly.newPlot(\"9a1dfa4d-f707-4e78-af75-d982fc649a35\", [{\"cells\": {\"fill\": {\"color\": [\"#ffffff\", \"#ffffff\"]}, \"line\": {\"color\": [\"#506784\"]}, \"values\": [[\"SVCLinear\", \"SVCrbf\", \"XGB1\", \"logit\", \"RForest\"], [0.675, 0.73, 0.69, 0.69, 0.7], [0.646, 0.509, 0.594, 0.673, 0.573], [0.582, 0.018, 0.382, 0.636, 0.291]]}, \"columnwidth\": [60, 100, 100, 100], \"header\": {\"fill\": {\"color\": [\"#E60000\"]}, \"font\": {\"color\": [\"#ffffff\"]}, \"line\": {\"color\": [\"#ffffff\"]}, \"values\": [\"ModelName\", \"Accuracy\", \"AUC\", \"RecallScore\"]}, \"type\": \"table\", \"uid\": \"1c7c276a-9e0c-44f9-98ab-5ffb5bd2d84c\"}], {\"title\": {\"text\": \"Model Measurements\"}}, {\"showLink\": false, \"linkText\": \"Export to plot.ly\", \"plotlyServerURL\": \"https://plot.ly\"}); \n",
       "}\n",
       "});</script><script type=\"text/javascript\">window.addEventListener(\"resize\", function(){if (document.getElementById(\"9a1dfa4d-f707-4e78-af75-d982fc649a35\")) {window._Plotly.Plots.resize(document.getElementById(\"9a1dfa4d-f707-4e78-af75-d982fc649a35\"));};})</script>"
      ],
      "text/vnd.plotly.v1+html": [
       "<div id=\"9a1dfa4d-f707-4e78-af75-d982fc649a35\" style=\"height: 525px; width: 100%;\" class=\"plotly-graph-div\"></div><script type=\"text/javascript\">require([\"plotly\"], function(Plotly) { window.PLOTLYENV=window.PLOTLYENV || {};window.PLOTLYENV.BASE_URL=\"https://plot.ly\";\n",
       "if (document.getElementById(\"9a1dfa4d-f707-4e78-af75-d982fc649a35\")) {\n",
       "    Plotly.newPlot(\"9a1dfa4d-f707-4e78-af75-d982fc649a35\", [{\"cells\": {\"fill\": {\"color\": [\"#ffffff\", \"#ffffff\"]}, \"line\": {\"color\": [\"#506784\"]}, \"values\": [[\"SVCLinear\", \"SVCrbf\", \"XGB1\", \"logit\", \"RForest\"], [0.675, 0.73, 0.69, 0.69, 0.7], [0.646, 0.509, 0.594, 0.673, 0.573], [0.582, 0.018, 0.382, 0.636, 0.291]]}, \"columnwidth\": [60, 100, 100, 100], \"header\": {\"fill\": {\"color\": [\"#E60000\"]}, \"font\": {\"color\": [\"#ffffff\"]}, \"line\": {\"color\": [\"#ffffff\"]}, \"values\": [\"ModelName\", \"Accuracy\", \"AUC\", \"RecallScore\"]}, \"type\": \"table\", \"uid\": \"1c7c276a-9e0c-44f9-98ab-5ffb5bd2d84c\"}], {\"title\": {\"text\": \"Model Measurements\"}}, {\"showLink\": false, \"linkText\": \"Export to plot.ly\", \"plotlyServerURL\": \"https://plot.ly\"}); \n",
       "}\n",
       "});</script><script type=\"text/javascript\">window.addEventListener(\"resize\", function(){if (document.getElementById(\"9a1dfa4d-f707-4e78-af75-d982fc649a35\")) {window._Plotly.Plots.resize(document.getElementById(\"9a1dfa4d-f707-4e78-af75-d982fc649a35\"));};})</script>"
      ]
     },
     "metadata": {},
     "output_type": "display_data"
    }
   ],
   "source": [
    "ModelComparison = pd.DataFrame(columns=['ModelName', 'Accuracy', 'AUC','RecallScore'])\n",
    "ModelComparison.set_index('ModelName',inplace=True)\n",
    "\n",
    "ModelComparison=pd.concat([ModelComparison \\\n",
    "                            ,GetMetricRecord(SVCLinear,'SVCLinear',resampled_X,resampled_Y,test_X,test_Y) \\\n",
    "                            ,GetMetricRecord(SVCrbf,'SVCrbf',resampled_X,resampled_Y,test_X,test_Y) \\\n",
    "                            ,GetMetricRecord(XGBModel,'XGB1',resampled_X,resampled_Y,test_X,test_Y) \\\n",
    "                            ,GetMetricRecord(logit,'logit',resampled_X,resampled_Y,test_X,test_Y) \\\n",
    "                            ,GetMetricRecord(RForest,'RForest',resampled_X,resampled_Y,test_X,test_Y) \\\n",
    "                            #,GetMetricRecord(TunedRF,'TunedRF',resampled_X,resampled_Y,test_X,test_Y) \\\n",
    "                           \n",
    "                          ],sort=False)\n",
    "\n",
    "ModelTable = ModelComparison.copy() #values, not pointers\n",
    "ModelTable.index.names = ['ModelName']\n",
    "ModelTable.reset_index(level=0, inplace=True)\n",
    "\n",
    "#ModelTable = ModelTable.rename(columns = {\"index\" : \"ModelName\"})\n",
    "ModelTable = np.around(ModelTable,3)\n",
    "\n",
    "val_lst = [ModelTable['ModelName']\n",
    "           ,ModelTable['Accuracy']\n",
    "           ,ModelTable['AUC']\n",
    "           ,ModelTable['RecallScore']\n",
    "          ]\n",
    "\n",
    "#using branding compatible colours \n",
    "trace  = go.Table(header = dict(values = ModelTable.columns.tolist(),\n",
    "                                line = dict(color = ['#ffffff']),\n",
    "                                fill = dict(color = ['#E60000']),\n",
    "                                font = dict(color = ['#ffffff'])                                \n",
    "                               ),\n",
    "                  cells  = dict(values = val_lst,\n",
    "                                line = dict(color = ['#506784']),\n",
    "                                fill = dict(color = [\"#ffffff\",'#ffffff'])\n",
    "                               ),\n",
    "                  columnwidth = [60,100,100,100])\n",
    "layout = go.Layout(dict(title = \"Model Measurements\"))\n",
    "figure = go.Figure(data=[trace],layout=layout)\n",
    "py.iplot(figure)"
   ]
  },
  {
   "cell_type": "markdown",
   "metadata": {},
   "source": [
    "### Second round:  Tuning the RandomForestClassifier\n",
    "\n",
    "The above table shows promising results that warrant for parameter tuning - where applicable -  for the randomforest, logistic regression and linear support vector machines. Unfortunately time permitted only the RandomForestClassifier to be completed."
   ]
  },
  {
   "cell_type": "code",
   "execution_count": 436,
   "metadata": {},
   "outputs": [
    {
     "name": "stdout",
     "output_type": "stream",
     "text": [
      "Fitting 3 folds for each of 100 candidates, totalling 300 fits\n"
     ]
    },
    {
     "name": "stderr",
     "output_type": "stream",
     "text": [
      "[Parallel(n_jobs=-1)]: Using backend LokyBackend with 4 concurrent workers.\n",
      "[Parallel(n_jobs=-1)]: Done  33 tasks      | elapsed:   37.7s\n",
      "[Parallel(n_jobs=-1)]: Done 154 tasks      | elapsed:  2.5min\n",
      "[Parallel(n_jobs=-1)]: Done 300 out of 300 | elapsed:  4.7min finished\n"
     ]
    },
    {
     "name": "stdout",
     "output_type": "stream",
     "text": [
      "{'n_estimators': 200, 'max_features': 'auto', 'max_depth': 220}\n"
     ]
    }
   ],
   "source": [
    "# number of trees in random forest\n",
    "n_estimators = [int(x) for x in np.linspace(start = 200, stop = 2000, num = 10)]\n",
    "\n",
    "# number of features at every split\n",
    "max_features = ['auto', 'sqrt']\n",
    "\n",
    "# max depth\n",
    "max_depth = [int(x) for x in np.linspace(100, 500, num = 11)]\n",
    "max_depth.append(None)\n",
    "\n",
    "# create random grid\n",
    "random_grid = {\n",
    " 'n_estimators': n_estimators,\n",
    " 'max_features': max_features,\n",
    " 'max_depth': max_depth\n",
    " }\n",
    "random_grid\n",
    "# Random search of parameters\n",
    "rfc_random = RandomizedSearchCV(estimator = RForest, param_distributions = random_grid, n_iter = 100, cv = 3, verbose=2, random_state=42, n_jobs = -1)\n",
    "\n",
    "# Fit the model\n",
    "rfc_random.fit(resampled_X,resampled_Y)\n",
    "rfc_random.best_params_\n",
    "# Tuned parameters\n",
    "print(rfc_random.best_params_)"
   ]
  },
  {
   "cell_type": "code",
   "execution_count": 437,
   "metadata": {},
   "outputs": [
    {
     "data": {
      "application/vnd.plotly.v1+json": {
       "config": {
        "linkText": "Export to plot.ly",
        "plotlyServerURL": "https://plot.ly",
        "showLink": false
       },
       "data": [
        {
         "cells": {
          "fill": {
           "color": [
            "#ffffff",
            "#ffffff"
           ]
          },
          "line": {
           "color": [
            "#506784"
           ]
          },
          "values": [
           [
            "SVCLinear",
            "SVCrbf",
            "XGB1",
            "logit",
            "RForest",
            "TunedRF"
           ],
           [
            0.675,
            0.73,
            0.69,
            0.69,
            0.695,
            0.725
           ],
           [
            0.646,
            0.509,
            0.594,
            0.673,
            0.587,
            0.624
           ],
           [
            0.582,
            0.018,
            0.382,
            0.636,
            0.345,
            0.4
           ]
          ]
         },
         "columnwidth": [
          60,
          100,
          100,
          100
         ],
         "header": {
          "fill": {
           "color": [
            "#E60000"
           ]
          },
          "font": {
           "color": [
            "#ffffff"
           ]
          },
          "line": {
           "color": [
            "#ffffff"
           ]
          },
          "values": [
           "ModelName",
           "Accuracy",
           "AUC",
           "RecallScore"
          ]
         },
         "type": "table",
         "uid": "d2418473-b817-40cd-b870-f2d7278ef429"
        }
       ],
       "layout": {
        "title": {
         "text": "Model Measurements"
        }
       }
      },
      "text/html": [
       "<div id=\"499355bf-d460-4077-9c19-0af775b3c547\" style=\"height: 525px; width: 100%;\" class=\"plotly-graph-div\"></div><script type=\"text/javascript\">require([\"plotly\"], function(Plotly) { window.PLOTLYENV=window.PLOTLYENV || {};window.PLOTLYENV.BASE_URL=\"https://plot.ly\";\n",
       "if (document.getElementById(\"499355bf-d460-4077-9c19-0af775b3c547\")) {\n",
       "    Plotly.newPlot(\"499355bf-d460-4077-9c19-0af775b3c547\", [{\"cells\": {\"fill\": {\"color\": [\"#ffffff\", \"#ffffff\"]}, \"line\": {\"color\": [\"#506784\"]}, \"values\": [[\"SVCLinear\", \"SVCrbf\", \"XGB1\", \"logit\", \"RForest\", \"TunedRF\"], [0.675, 0.73, 0.69, 0.69, 0.695, 0.725], [0.646, 0.509, 0.594, 0.673, 0.587, 0.624], [0.582, 0.018, 0.382, 0.636, 0.345, 0.4]]}, \"columnwidth\": [60, 100, 100, 100], \"header\": {\"fill\": {\"color\": [\"#E60000\"]}, \"font\": {\"color\": [\"#ffffff\"]}, \"line\": {\"color\": [\"#ffffff\"]}, \"values\": [\"ModelName\", \"Accuracy\", \"AUC\", \"RecallScore\"]}, \"type\": \"table\", \"uid\": \"d2418473-b817-40cd-b870-f2d7278ef429\"}], {\"title\": {\"text\": \"Model Measurements\"}}, {\"showLink\": false, \"linkText\": \"Export to plot.ly\", \"plotlyServerURL\": \"https://plot.ly\"}); \n",
       "}\n",
       "});</script><script type=\"text/javascript\">window.addEventListener(\"resize\", function(){if (document.getElementById(\"499355bf-d460-4077-9c19-0af775b3c547\")) {window._Plotly.Plots.resize(document.getElementById(\"499355bf-d460-4077-9c19-0af775b3c547\"));};})</script>"
      ],
      "text/vnd.plotly.v1+html": [
       "<div id=\"499355bf-d460-4077-9c19-0af775b3c547\" style=\"height: 525px; width: 100%;\" class=\"plotly-graph-div\"></div><script type=\"text/javascript\">require([\"plotly\"], function(Plotly) { window.PLOTLYENV=window.PLOTLYENV || {};window.PLOTLYENV.BASE_URL=\"https://plot.ly\";\n",
       "if (document.getElementById(\"499355bf-d460-4077-9c19-0af775b3c547\")) {\n",
       "    Plotly.newPlot(\"499355bf-d460-4077-9c19-0af775b3c547\", [{\"cells\": {\"fill\": {\"color\": [\"#ffffff\", \"#ffffff\"]}, \"line\": {\"color\": [\"#506784\"]}, \"values\": [[\"SVCLinear\", \"SVCrbf\", \"XGB1\", \"logit\", \"RForest\", \"TunedRF\"], [0.675, 0.73, 0.69, 0.69, 0.695, 0.725], [0.646, 0.509, 0.594, 0.673, 0.587, 0.624], [0.582, 0.018, 0.382, 0.636, 0.345, 0.4]]}, \"columnwidth\": [60, 100, 100, 100], \"header\": {\"fill\": {\"color\": [\"#E60000\"]}, \"font\": {\"color\": [\"#ffffff\"]}, \"line\": {\"color\": [\"#ffffff\"]}, \"values\": [\"ModelName\", \"Accuracy\", \"AUC\", \"RecallScore\"]}, \"type\": \"table\", \"uid\": \"d2418473-b817-40cd-b870-f2d7278ef429\"}], {\"title\": {\"text\": \"Model Measurements\"}}, {\"showLink\": false, \"linkText\": \"Export to plot.ly\", \"plotlyServerURL\": \"https://plot.ly\"}); \n",
       "}\n",
       "});</script><script type=\"text/javascript\">window.addEventListener(\"resize\", function(){if (document.getElementById(\"499355bf-d460-4077-9c19-0af775b3c547\")) {window._Plotly.Plots.resize(document.getElementById(\"499355bf-d460-4077-9c19-0af775b3c547\"));};})</script>"
      ]
     },
     "metadata": {},
     "output_type": "display_data"
    }
   ],
   "source": [
    "# with the tuned models added\n",
    "\n",
    "TunedRF = RandomForestClassifier(n_estimators=200, max_depth=220, max_features='auto')\n",
    "ModelComparison = pd.DataFrame(columns=['ModelName', 'Accuracy', 'AUC','RecallScore'])\n",
    "ModelComparison.set_index('ModelName',inplace=True)\n",
    "#the various validation measures should have used some sort of crossvalidation\n",
    "ModelComparison=pd.concat([ModelComparison \\\n",
    "                            ,GetMetricRecord(SVCLinear,'SVCLinear',resampled_X,resampled_Y,test_X,test_Y) \\\n",
    "                            ,GetMetricRecord(SVCrbf,'SVCrbf',resampled_X,resampled_Y,test_X,test_Y) \\\n",
    "                            ,GetMetricRecord(XGBModel,'XGB1',resampled_X,resampled_Y,test_X,test_Y) \\\n",
    "                            ,GetMetricRecord(logit,'logit',resampled_X,resampled_Y,test_X,test_Y) \\\n",
    "                            ,GetMetricRecord(RForest,'RForest',resampled_X,resampled_Y,test_X,test_Y) \\\n",
    "                            ,GetMetricRecord(TunedRF,'TunedRF',resampled_X,resampled_Y,test_X,test_Y) \\\n",
    "                           \n",
    "                          ],sort=False)\n",
    "\n",
    "ModelTable = ModelComparison.copy() #values, not pointers\n",
    "ModelTable.index.names = ['ModelName']\n",
    "ModelTable.reset_index(level=0, inplace=True)\n",
    "\n",
    "\n",
    "ModelTable = np.around(ModelTable,3)\n",
    "\n",
    "val_lst = [ModelTable['ModelName']\n",
    "           ,ModelTable['Accuracy']\n",
    "           ,ModelTable['AUC']\n",
    "           ,ModelTable['RecallScore']\n",
    "          ]\n",
    "\n",
    "#using branding compatible colours \n",
    "trace  = go.Table(header = dict(values = ModelTable.columns.tolist(),\n",
    "                                line = dict(color = ['#ffffff']),\n",
    "                                fill = dict(color = ['#E60000']),\n",
    "                                font = dict(color = ['#ffffff'])                                \n",
    "                               ),\n",
    "                  cells  = dict(values = val_lst,\n",
    "                                line = dict(color = ['#506784']),\n",
    "                                fill = dict(color = [\"#ffffff\",'#ffffff'])\n",
    "                               ),\n",
    "                  columnwidth = [60,100,100,100])\n",
    "layout = go.Layout(dict(title = \"Model Measurements\"))\n",
    "figure = go.Figure(data=[trace],layout=layout)\n",
    "py.iplot(figure)"
   ]
  },
  {
   "cell_type": "markdown",
   "metadata": {},
   "source": [
    "### Conclusion\n",
    "\n",
    "The support vector machines are often regarded as one of the black box starting points that - albeit with being rather difficult to interpret - could be used as targets from where invaluable feature importance information could be extracted.\n",
    "\n",
    "In this scenario, however,  even through the non-linear version had produced the highest accuracy scores, the other two measurements show that there is something seriously wrong with our model and thus at least requires a second look at.\n",
    "\n",
    "The tuned Randomforest model had achieved better scores in most measures than its original base model further underlying the importance of tuning the other contenders and making it one of our best performing models.  \n",
    "\n",
    "Surprisingly the performing model was the most basic logistic regression whose results are the only one which come close to being acceptable.\n",
    "\n",
    "Thus, if an immediate decision were to be made, it would be logistic Regression that I would suggest going forward with but my recommendation would be continuing with the steps listed below:"
   ]
  },
  {
   "cell_type": "markdown",
   "metadata": {},
   "source": [
    "### Recommended subsequent steps\n",
    "There are several other potential issues that need to be verified before the algorithm could be put into production :\n",
    "\n",
    " - Not all models have (good) automatic feature selection.No numerical variable correlations were examined,the sparse variables were not removed. Removing variables with highly correlated and near-zero variance features should improve the variance of most models.\n",
    " - Parameter tuning, especially for the Extreme Gradient Boosting model.   \n",
    " - No neural network or KNN models had been tried.\n",
    " - The comparison of the feature importances of these models, especially the one with problematic results like the extreme gradient boost mode.  \n",
    " - The continuous variables could be binned, even if it is generally not recommended.\n",
    " - Preferably better visualisaton, graphs like ROC curves. \n"
   ]
  },
  {
   "cell_type": "code",
   "execution_count": null,
   "metadata": {},
   "outputs": [],
   "source": []
  }
 ],
 "metadata": {
  "kernelspec": {
   "display_name": "Python 3",
   "language": "python",
   "name": "python3"
  },
  "language_info": {
   "codemirror_mode": {
    "name": "ipython",
    "version": 3
   },
   "file_extension": ".py",
   "mimetype": "text/x-python",
   "name": "python",
   "nbconvert_exporter": "python",
   "pygments_lexer": "ipython3",
   "version": "3.7.3"
  }
 },
 "nbformat": 4,
 "nbformat_minor": 2
}
